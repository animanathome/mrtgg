{
 "cells": [
  {
   "cell_type": "code",
   "execution_count": 2,
   "metadata": {},
   "outputs": [],
   "source": [
    "import matplotlib\n",
    "import numpy as np\n",
    "import pandas as pd"
   ]
  },
  {
   "cell_type": "code",
   "execution_count": 3,
   "metadata": {},
   "outputs": [],
   "source": [
    "MORTAGE = 4341 # mortgage for a 3 bedroom townhouse\n",
    "# source: https://www.zolo.ca/vancouver-real-estate/4353-fleming-street\n",
    "RENT = 3200 # rent for 3 bedroom in the same area is min 3200\n",
    "# source: https://vancouver.craigslist.org/search/apa?search_distance=1&postal=V5N+3W4&min_bedrooms=3&min_bathrooms=2&availabilityMode=0&sale_date=all+dates\n",
    "SALARY = 87914 / 12 # net sausing https://simpletax.ca/calculator\n",
    "PROPERTY_VALUE = 998000"
   ]
  },
  {
   "cell_type": "markdown",
   "metadata": {},
   "source": [
    "## RENT INCREASE"
   ]
  },
  {
   "cell_type": "code",
   "execution_count": 4,
   "metadata": {},
   "outputs": [
    {
     "name": "stdout",
     "output_type": "stream",
     "text": [
      "Average yearly rent increase 3.51%\n"
     ]
    },
    {
     "data": {
      "text/plain": [
       "Text(0.5, 1.0, 'Monthly cost taking yearly rent increase into account')"
      ]
     },
     "execution_count": 4,
     "metadata": {},
     "output_type": "execute_result"
    }
   ],
   "source": [
    "# yearly rent increases for vancouver\n",
    "# https://www2.gov.bc.ca/gov/content/housing-tenancy/residential-tenancies/during-a-tenancy/rent-increases\n",
    "ayri = np.mean([4.0,3.7,2.9,2.5,2.2,3.8,4.3,2.3,3.2,3.7,3.7,4.0,4.0,3.8,4.6])\n",
    "print(\"Average yearly rent increase {:.2f}%\".format(ayri))\n",
    "\n",
    "year = []\n",
    "rent = []\n",
    "mortgage = []\n",
    "\n",
    "start_rent = RENT\n",
    "n_years = 25\n",
    "for i in range(n_years):\n",
    "    start_rent *= 1.0 + (ayri / 100)\n",
    "    rent.append(start_rent)\n",
    "    mortgage.append(MORTAGE)\n",
    "start_rent\n",
    "\n",
    "df = pd.DataFrame({'rent':rent, 'mortgage': mortgage})\n",
    "ax = df.plot()\n",
    "ax.set_xlabel('number of years')\n",
    "ax.set_ylabel('$ amount')\n",
    "ax.set_title('Monthly cost taking yearly rent increase into account')"
   ]
  },
  {
   "cell_type": "markdown",
   "metadata": {},
   "source": [
    "## PROPERTY TAX"
   ]
  },
  {
   "cell_type": "code",
   "execution_count": 5,
   "metadata": {},
   "outputs": [
    {
     "data": {
      "text/plain": [
       "23952.0"
      ]
     },
     "execution_count": 5,
     "metadata": {},
     "output_type": "execute_result"
    }
   ],
   "source": [
    "# https://vancouver.ca/home-property-development/residential.aspx\n",
    "# property tax history for the last 10 years: 2018, 2017, 2016, ... 2008\n",
    "# NOTE: trending downwards.\n",
    "property_tax_history = [2.4, 2.5, 3.1, 3.5, 3.67, 3.79, 4.05, 4.17, 4.21, 4.22, 4.3]\n",
    "mean_property_tax = np.mean(property_tax_history)\n",
    "\n",
    "PROPERTY_TAX_PERCENTAGE = property_tax_history[0] / 100\n",
    "PROPERTY_VALUE * PROPERTY_TAX_PERCENTAGE"
   ]
  },
  {
   "cell_type": "markdown",
   "metadata": {},
   "source": [
    "## INFLATION"
   ]
  },
  {
   "cell_type": "code",
   "execution_count": 6,
   "metadata": {},
   "outputs": [
    {
     "name": "stdout",
     "output_type": "stream",
     "text": [
      "Average yearly inflation 1.90%\n"
     ]
    },
    {
     "data": {
      "text/plain": [
       "Text(0.5, 1.0, '% of salary taking inflation and rent increase into account')"
      ]
     },
     "execution_count": 6,
     "metadata": {},
     "output_type": "execute_result"
    },
    {
     "data": {
      "image/png": "[encoded data removed]",
      "text/plain": [
       "<Figure size 432x288 with 1 Axes>"
      ]
     },
     "metadata": {
      "needs_background": "light"
     },
     "output_type": "display_data"
    }
   ],
   "source": [
    "# SOURCE: https://www.inflation.eu/inflation-rates/canada/historic-inflation/cpi-inflation-canada.aspx\n",
    "# inflation history for the last 20 years\n",
    "# NOTE: the Vancouver yearly rental increase is much higher then inflation. Almost double, 3.51% vs 1.9%.\n",
    "# This means that salaries don't catch with the rental increases.\n",
    "inflation_history = [1.99, 1.87, 1.5, 1.61, 1.47, 1.24, 0.83, 2.35, 1.32, 1.16, 2.38, 1.67, 2.09, 2.13, 2.08, 3.8, 0.72, 3.2, 2.63]\n",
    "mean_inflation_history = np.mean(inflation_history)\n",
    "print(\"Average yearly inflation {:.2f}%\".format(mean_inflation_history))\n",
    "\n",
    "start_salary = SALARY\n",
    "n_years = 25\n",
    "start_year = 2019\n",
    "mortage_salary_percentage = []\n",
    "rent_salary_percentage = []\n",
    "year = []\n",
    "for i in range(n_years):\n",
    "    start_salary *= 1.0 + (mean_inflation_history / 100)\n",
    "    mortage_salary_percentage.append((MORTAGE / start_salary) * 100)\n",
    "    rent_salary_percentage.append((rent[i] / start_salary) * 100)\n",
    "    start_year += 1\n",
    "    year.append(start_year)\n",
    "    \n",
    "pdf = pd.DataFrame({'rent':rent_salary_percentage, 'mortgage': mortage_salary_percentage})\n",
    "ax = pdf.plot()\n",
    "ax.axis([1, 24, 0, 100])\n",
    "ax.set_xlabel('year')\n",
    "ax.set_ylabel('% of salary')\n",
    "ax.set_title('% of salary taking inflation and rent increase into account')"
   ]
  },
  {
   "cell_type": "markdown",
   "metadata": {},
   "source": [
    "# PROPERTY VALUE\n",
    "![alt text](files/natl_chartA06_xhi-res_en.png \"Title\")"
   ]
  },
  {
   "cell_type": "code",
   "execution_count": 7,
   "metadata": {},
   "outputs": [
    {
     "name": "stdout",
     "output_type": "stream",
     "text": [
      "Increased value per year 12.0%\n",
      "Property value after 25 years including depreciation: $2,994,000\n"
     ]
    }
   ],
   "source": [
    "# property value history\n",
    "# source: http://creastats.crea.ca/natl/index.html\n",
    "# NOTE: here we're only counting from 2005 to 2015 (not taking the big jump into account).\n",
    "\n",
    "# how does age affect value\n",
    "# NOTE: there must be an ideal age to sell a house. The numbers below seem very optimistic to me. \n",
    "# source: https://www.rew.ca/news/how-a-condo-s-age-affects-its-price-1.2096087\n",
    "value_increase_per_year = (300 / 200) / 10\n",
    "end_value = (value_increase_per_year * 25) * PROPERTY_VALUE\n",
    "depreciation_factor = 0.8; # based on townhouse sale from chart below: 20% less then new\n",
    "print('Increased value per year {}%'.format((value_increase_per_year * 100) * depreciation_factor))\n",
    "print('Property value after 25 years including depreciation: ${:,}'.format(int(end_value * depreciation_factor)))"
   ]
  },
  {
   "cell_type": "markdown",
   "metadata": {},
   "source": [
    "![alt text](files/devaluation.png \"Title\")"
   ]
  }
 ],
 "metadata": {
  "kernelspec": {
   "display_name": "Python 3",
   "language": "python",
   "name": "python3"
  },
  "language_info": {
   "codemirror_mode": {
    "name": "ipython",
    "version": 3
   },
   "file_extension": ".py",
   "mimetype": "text/x-python",
   "name": "python",
   "nbconvert_exporter": "python",
   "pygments_lexer": "ipython3",
   "version": "3.7.1"
  }
 },
 "nbformat": 4,
 "nbformat_minor": 2
}
