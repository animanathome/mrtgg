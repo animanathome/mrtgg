{
 "cells": [
  {
   "cell_type": "code",
   "execution_count": 43,
   "metadata": {},
   "outputs": [],
   "source": [
    "import matplotlib\n",
    "import numpy as np\n",
    "import pandas as pd"
   ]
  },
  {
   "cell_type": "code",
   "execution_count": 60,
   "metadata": {},
   "outputs": [],
   "source": [
    "PRICE = 998000\n",
    "DOWNPAYMENT = 250000\n",
    "INTEREST_RATE = 3.29 # Fixed for 5 years by TD"
   ]
  },
  {
   "cell_type": "markdown",
   "metadata": {},
   "source": [
    "## MORTGAGE RATES"
   ]
  },
  {
   "cell_type": "code",
   "execution_count": 47,
   "metadata": {},
   "outputs": [],
   "source": [
    "# 5-year mortgage rates for the last 15 years\n",
    "# source: https://www.ratehub.ca/5-year-fixed-mortgage-rate-history\n",
    "mortgage_rates = [3.29, 2.79, 2.42, 2.34, 2.44, 2.68, 3.19, 2.84, 2.99, 3.7, 3.79, 3.79, 5.89, 4.9, 6.3]\n",
    "INTEREST_RATE = np.mean(mortgage_rates)"
   ]
  },
  {
   "cell_type": "markdown",
   "metadata": {},
   "source": [
    "## MORTGAGE PAYMENT"
   ]
  },
  {
   "cell_type": "code",
   "execution_count": 48,
   "metadata": {},
   "outputs": [
    {
     "name": "stdout",
     "output_type": "stream",
     "text": [
      "Loan amount $748,000\n",
      "Monthly mortgage payment $3,767.0\n"
     ]
    }
   ],
   "source": [
    "# Formula to calculate monthly payments\n",
    "# M = L(I(1 + I)**N) / ((1 + I)**N - 1)\n",
    "# M = Monthly Payment, L = Loan, I = Interest, N = Number of payments, ** = exponent\n",
    "loanAmount = PRICE - DOWNPAYMENT\n",
    "print('Loan amount ${:,}'.format(loanAmount))\n",
    "interestRate = INTEREST_RATE / 100 / 12\n",
    "years = 25 * 12\n",
    "MORTGAGE = loanAmount * (interestRate * (1 + interestRate) ** years) / ((1 + interestRate) ** years - 1)\n",
    "\n",
    "# Prints monthly payment on next line and reformat the string to a float using 2 decimal places\n",
    "print('Monthly mortgage payment ${:,}'.format(round(MORTGAGE)))\n",
    "\n",
    "# NOTE: will we need mortgage insurance?\n",
    "# As long as we have at least 20% of the house value this shouldn't be the case\n",
    "# https://www.investopedia.com/mortgage/insurance/avoid-pmi/"
   ]
  },
  {
   "cell_type": "markdown",
   "metadata": {},
   "source": [
    "## STRATA + PROPERTY TAX"
   ]
  },
  {
   "cell_type": "code",
   "execution_count": 58,
   "metadata": {},
   "outputs": [],
   "source": [
    "# source: https://www.zolo.ca/vancouver-real-estate/4353-fleming-street\n",
    "STRATA = 200\n",
    "PROPERTY_TAXES = 2683  / 12\n",
    "# source: SUNLIFE LIFE INSURANCE for borrowed amount\n",
    "LIFE_INSURANCE = 75 * 2"
   ]
  },
  {
   "cell_type": "markdown",
   "metadata": {},
   "source": [
    "## TOTAL PROPERTY COSTS"
   ]
  },
  {
   "cell_type": "code",
   "execution_count": 59,
   "metadata": {},
   "outputs": [
    {
     "name": "stdout",
     "output_type": "stream",
     "text": [
      "Total monthly payments $4,341\n"
     ]
    }
   ],
   "source": [
    "# TOTAL MONTHLY HOUSE PAYMENTS\n",
    "def get_total():\n",
    "    TOTAL = 0\n",
    "    TOTAL += MORTGAGE\n",
    "    TOTAL += STRATA\n",
    "    TOTAL += PROPERTY_TAXES\n",
    "    TOTAL += LIFE_INSURANCE\n",
    "    return TOTAL\n",
    "    \n",
    "HOUSE_PAYMENT = get_total()\n",
    "print('Total monthly payments ${:,}'.format(int(HOUSE_PAYMENT)))"
   ]
  }
 ],
 "metadata": {
  "kernelspec": {
   "display_name": "Python 3",
   "language": "python",
   "name": "python3"
  },
  "language_info": {
   "codemirror_mode": {
    "name": "ipython",
    "version": 3
   },
   "file_extension": ".py",
   "mimetype": "text/x-python",
   "name": "python",
   "nbconvert_exporter": "python",
   "pygments_lexer": "ipython3",
   "version": "3.7.1"
  }
 },
 "nbformat": 4,
 "nbformat_minor": 2
}
